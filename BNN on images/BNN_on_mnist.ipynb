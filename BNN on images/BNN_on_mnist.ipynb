{
  "nbformat": 4,
  "nbformat_minor": 0,
  "metadata": {
    "colab": {
      "name": "BNN_on_mnist.ipynb",
      "provenance": [],
      "collapsed_sections": [],
      "include_colab_link": true
    },
    "kernelspec": {
      "display_name": "Python 3",
      "language": "python",
      "name": "python3"
    },
    "language_info": {
      "codemirror_mode": {
        "name": "ipython",
        "version": 3
      },
      "file_extension": ".py",
      "mimetype": "text/x-python",
      "name": "python",
      "nbconvert_exporter": "python",
      "pygments_lexer": "ipython3",
      "version": "3.7.4"
    },
    "widgets": {
      "application/vnd.jupyter.widget-state+json": {
        "92fbce63761442dd84fce719831ac094": {
          "model_module": "@jupyter-widgets/controls",
          "model_name": "HBoxModel",
          "model_module_version": "1.5.0",
          "state": {
            "_view_name": "HBoxView",
            "_dom_classes": [],
            "_model_name": "HBoxModel",
            "_view_module": "@jupyter-widgets/controls",
            "_model_module_version": "1.5.0",
            "_view_count": null,
            "_view_module_version": "1.5.0",
            "box_style": "",
            "layout": "IPY_MODEL_61f216abecb443c1923b81078e411e4d",
            "_model_module": "@jupyter-widgets/controls",
            "children": [
              "IPY_MODEL_df12b32ddc794c2888b2fc8044ba877b",
              "IPY_MODEL_344137125654460aae933c3603a879a4",
              "IPY_MODEL_a1d0d38288bc463f94382d841d0108dc"
            ]
          }
        },
        "61f216abecb443c1923b81078e411e4d": {
          "model_module": "@jupyter-widgets/base",
          "model_name": "LayoutModel",
          "model_module_version": "1.2.0",
          "state": {
            "_view_name": "LayoutView",
            "grid_template_rows": null,
            "right": null,
            "justify_content": null,
            "_view_module": "@jupyter-widgets/base",
            "overflow": null,
            "_model_module_version": "1.2.0",
            "_view_count": null,
            "flex_flow": null,
            "width": null,
            "min_width": null,
            "border": null,
            "align_items": null,
            "bottom": null,
            "_model_module": "@jupyter-widgets/base",
            "top": null,
            "grid_column": null,
            "overflow_y": null,
            "overflow_x": null,
            "grid_auto_flow": null,
            "grid_area": null,
            "grid_template_columns": null,
            "flex": null,
            "_model_name": "LayoutModel",
            "justify_items": null,
            "grid_row": null,
            "max_height": null,
            "align_content": null,
            "visibility": null,
            "align_self": null,
            "height": null,
            "min_height": null,
            "padding": null,
            "grid_auto_rows": null,
            "grid_gap": null,
            "max_width": null,
            "order": null,
            "_view_module_version": "1.2.0",
            "grid_template_areas": null,
            "object_position": null,
            "object_fit": null,
            "grid_auto_columns": null,
            "margin": null,
            "display": null,
            "left": null
          }
        },
        "df12b32ddc794c2888b2fc8044ba877b": {
          "model_module": "@jupyter-widgets/controls",
          "model_name": "HTMLModel",
          "model_module_version": "1.5.0",
          "state": {
            "_view_name": "HTMLView",
            "style": "IPY_MODEL_545b1d74622a423d9a4eea2fecdb216b",
            "_dom_classes": [],
            "description": "",
            "_model_name": "HTMLModel",
            "placeholder": "​",
            "_view_module": "@jupyter-widgets/controls",
            "_model_module_version": "1.5.0",
            "value": "Dl Completed...: 100%",
            "_view_count": null,
            "_view_module_version": "1.5.0",
            "description_tooltip": null,
            "_model_module": "@jupyter-widgets/controls",
            "layout": "IPY_MODEL_d9ba5bf231d4454680338323eeeb1b26"
          }
        },
        "344137125654460aae933c3603a879a4": {
          "model_module": "@jupyter-widgets/controls",
          "model_name": "FloatProgressModel",
          "model_module_version": "1.5.0",
          "state": {
            "_view_name": "ProgressView",
            "style": "IPY_MODEL_a7726895dfe54d4f8e5101588cc44392",
            "_dom_classes": [],
            "description": "",
            "_model_name": "FloatProgressModel",
            "bar_style": "success",
            "max": 4,
            "_view_module": "@jupyter-widgets/controls",
            "_model_module_version": "1.5.0",
            "value": 4,
            "_view_count": null,
            "_view_module_version": "1.5.0",
            "orientation": "horizontal",
            "min": 0,
            "description_tooltip": null,
            "_model_module": "@jupyter-widgets/controls",
            "layout": "IPY_MODEL_2181112e5d7a4976b08decab01351cc3"
          }
        },
        "a1d0d38288bc463f94382d841d0108dc": {
          "model_module": "@jupyter-widgets/controls",
          "model_name": "HTMLModel",
          "model_module_version": "1.5.0",
          "state": {
            "_view_name": "HTMLView",
            "style": "IPY_MODEL_899dd84bd3fb4fbfba14ffff77fe71c4",
            "_dom_classes": [],
            "description": "",
            "_model_name": "HTMLModel",
            "placeholder": "​",
            "_view_module": "@jupyter-widgets/controls",
            "_model_module_version": "1.5.0",
            "value": " 4/4 [00:02&lt;00:00,  1.55 file/s]",
            "_view_count": null,
            "_view_module_version": "1.5.0",
            "description_tooltip": null,
            "_model_module": "@jupyter-widgets/controls",
            "layout": "IPY_MODEL_7fdfdb5bd8df409f9bef369bf2f86d0c"
          }
        },
        "545b1d74622a423d9a4eea2fecdb216b": {
          "model_module": "@jupyter-widgets/controls",
          "model_name": "DescriptionStyleModel",
          "model_module_version": "1.5.0",
          "state": {
            "_view_name": "StyleView",
            "_model_name": "DescriptionStyleModel",
            "description_width": "",
            "_view_module": "@jupyter-widgets/base",
            "_model_module_version": "1.5.0",
            "_view_count": null,
            "_view_module_version": "1.2.0",
            "_model_module": "@jupyter-widgets/controls"
          }
        },
        "d9ba5bf231d4454680338323eeeb1b26": {
          "model_module": "@jupyter-widgets/base",
          "model_name": "LayoutModel",
          "model_module_version": "1.2.0",
          "state": {
            "_view_name": "LayoutView",
            "grid_template_rows": null,
            "right": null,
            "justify_content": null,
            "_view_module": "@jupyter-widgets/base",
            "overflow": null,
            "_model_module_version": "1.2.0",
            "_view_count": null,
            "flex_flow": null,
            "width": null,
            "min_width": null,
            "border": null,
            "align_items": null,
            "bottom": null,
            "_model_module": "@jupyter-widgets/base",
            "top": null,
            "grid_column": null,
            "overflow_y": null,
            "overflow_x": null,
            "grid_auto_flow": null,
            "grid_area": null,
            "grid_template_columns": null,
            "flex": null,
            "_model_name": "LayoutModel",
            "justify_items": null,
            "grid_row": null,
            "max_height": null,
            "align_content": null,
            "visibility": null,
            "align_self": null,
            "height": null,
            "min_height": null,
            "padding": null,
            "grid_auto_rows": null,
            "grid_gap": null,
            "max_width": null,
            "order": null,
            "_view_module_version": "1.2.0",
            "grid_template_areas": null,
            "object_position": null,
            "object_fit": null,
            "grid_auto_columns": null,
            "margin": null,
            "display": null,
            "left": null
          }
        },
        "a7726895dfe54d4f8e5101588cc44392": {
          "model_module": "@jupyter-widgets/controls",
          "model_name": "ProgressStyleModel",
          "model_module_version": "1.5.0",
          "state": {
            "_view_name": "StyleView",
            "_model_name": "ProgressStyleModel",
            "description_width": "",
            "_view_module": "@jupyter-widgets/base",
            "_model_module_version": "1.5.0",
            "_view_count": null,
            "_view_module_version": "1.2.0",
            "bar_color": null,
            "_model_module": "@jupyter-widgets/controls"
          }
        },
        "2181112e5d7a4976b08decab01351cc3": {
          "model_module": "@jupyter-widgets/base",
          "model_name": "LayoutModel",
          "model_module_version": "1.2.0",
          "state": {
            "_view_name": "LayoutView",
            "grid_template_rows": null,
            "right": null,
            "justify_content": null,
            "_view_module": "@jupyter-widgets/base",
            "overflow": null,
            "_model_module_version": "1.2.0",
            "_view_count": null,
            "flex_flow": null,
            "width": null,
            "min_width": null,
            "border": null,
            "align_items": null,
            "bottom": null,
            "_model_module": "@jupyter-widgets/base",
            "top": null,
            "grid_column": null,
            "overflow_y": null,
            "overflow_x": null,
            "grid_auto_flow": null,
            "grid_area": null,
            "grid_template_columns": null,
            "flex": null,
            "_model_name": "LayoutModel",
            "justify_items": null,
            "grid_row": null,
            "max_height": null,
            "align_content": null,
            "visibility": null,
            "align_self": null,
            "height": null,
            "min_height": null,
            "padding": null,
            "grid_auto_rows": null,
            "grid_gap": null,
            "max_width": null,
            "order": null,
            "_view_module_version": "1.2.0",
            "grid_template_areas": null,
            "object_position": null,
            "object_fit": null,
            "grid_auto_columns": null,
            "margin": null,
            "display": null,
            "left": null
          }
        },
        "899dd84bd3fb4fbfba14ffff77fe71c4": {
          "model_module": "@jupyter-widgets/controls",
          "model_name": "DescriptionStyleModel",
          "model_module_version": "1.5.0",
          "state": {
            "_view_name": "StyleView",
            "_model_name": "DescriptionStyleModel",
            "description_width": "",
            "_view_module": "@jupyter-widgets/base",
            "_model_module_version": "1.5.0",
            "_view_count": null,
            "_view_module_version": "1.2.0",
            "_model_module": "@jupyter-widgets/controls"
          }
        },
        "7fdfdb5bd8df409f9bef369bf2f86d0c": {
          "model_module": "@jupyter-widgets/base",
          "model_name": "LayoutModel",
          "model_module_version": "1.2.0",
          "state": {
            "_view_name": "LayoutView",
            "grid_template_rows": null,
            "right": null,
            "justify_content": null,
            "_view_module": "@jupyter-widgets/base",
            "overflow": null,
            "_model_module_version": "1.2.0",
            "_view_count": null,
            "flex_flow": null,
            "width": null,
            "min_width": null,
            "border": null,
            "align_items": null,
            "bottom": null,
            "_model_module": "@jupyter-widgets/base",
            "top": null,
            "grid_column": null,
            "overflow_y": null,
            "overflow_x": null,
            "grid_auto_flow": null,
            "grid_area": null,
            "grid_template_columns": null,
            "flex": null,
            "_model_name": "LayoutModel",
            "justify_items": null,
            "grid_row": null,
            "max_height": null,
            "align_content": null,
            "visibility": null,
            "align_self": null,
            "height": null,
            "min_height": null,
            "padding": null,
            "grid_auto_rows": null,
            "grid_gap": null,
            "max_width": null,
            "order": null,
            "_view_module_version": "1.2.0",
            "grid_template_areas": null,
            "object_position": null,
            "object_fit": null,
            "grid_auto_columns": null,
            "margin": null,
            "display": null,
            "left": null
          }
        }
      }
    }
  },
  "cells": [
    {
      "cell_type": "markdown",
      "metadata": {
        "id": "view-in-github",
        "colab_type": "text"
      },
      "source": [
        "<a href=\"https://colab.research.google.com/github/gautamHCSCV/Image-Classification-on-Edges-using-BNN/blob/main/BNN%20on%20images/BNN_on_mnist.ipynb\" target=\"_parent\"><img src=\"https://colab.research.google.com/assets/colab-badge.svg\" alt=\"Open In Colab\"/></a>"
      ]
    },
    {
      "cell_type": "code",
      "metadata": {
        "id": "xCOQ8D7iBjON"
      },
      "source": [
        "import tensorflow as tf\n",
        "import warnings\n",
        "import tensorflow_datasets as tfds\n",
        "from tensorflow.keras.layers import Dense,Conv2D,Flatten, Input,MaxPool2D\n",
        "from tensorflow.keras.models import Model\n",
        "warnings.filterwarnings('ignore')"
      ],
      "execution_count": null,
      "outputs": []
    },
    {
      "cell_type": "code",
      "metadata": {
        "id": "CoI9UKPgBjQl"
      },
      "source": [
        "class Binarize(tf.keras.constraints.Constraint):\n",
        "  def __init__(self, ref_value = 1):\n",
        "    self.ref_value = ref_value\n",
        "\n",
        "  def __call__(self, w):\n",
        "    return tf.math.sign(w)*self.ref_value\n",
        "\n",
        "  def get_config(self):\n",
        "    return {'ref_value': self.ref_value}"
      ],
      "execution_count": null,
      "outputs": []
    },
    {
      "cell_type": "code",
      "metadata": {
        "colab": {
          "base_uri": "https://localhost:8080/",
          "height": 182,
          "referenced_widgets": [
            "92fbce63761442dd84fce719831ac094",
            "61f216abecb443c1923b81078e411e4d",
            "df12b32ddc794c2888b2fc8044ba877b",
            "344137125654460aae933c3603a879a4",
            "a1d0d38288bc463f94382d841d0108dc",
            "545b1d74622a423d9a4eea2fecdb216b",
            "d9ba5bf231d4454680338323eeeb1b26",
            "a7726895dfe54d4f8e5101588cc44392",
            "2181112e5d7a4976b08decab01351cc3",
            "899dd84bd3fb4fbfba14ffff77fe71c4",
            "7fdfdb5bd8df409f9bef369bf2f86d0c"
          ]
        },
        "id": "-_EhqhMhnvr4",
        "outputId": "b33d2974-2133-42e0-f288-1d9593fa1dac"
      },
      "source": [
        "(ds_train, ds_test), ds_info = tfds.load(\n",
        "    'mnist',\n",
        "    split=['train', 'test'],\n",
        "    shuffle_files=True,\n",
        "    as_supervised=True,\n",
        "    with_info=True,\n",
        ")\n",
        "def normalize_img(image, label):\n",
        "  \"\"\"Normalizes images: `uint8` -> `float32`.\"\"\"\n",
        "  return tf.cast(image, tf.float32) / 255., label\n",
        "\n",
        "ds_train = ds_train.map(\n",
        "    normalize_img, num_parallel_calls=tf.data.AUTOTUNE)\n",
        "ds_train = ds_train.cache()\n",
        "ds_train = ds_train.shuffle(ds_info.splits['train'].num_examples)\n",
        "ds_train = ds_train.batch(128)\n",
        "ds_train = ds_train.prefetch(tf.data.AUTOTUNE)\n",
        "\n",
        "ds_test = ds_test.map(\n",
        "    normalize_img, num_parallel_calls=tf.data.AUTOTUNE)\n",
        "ds_test = ds_test.batch(128)\n",
        "ds_test = ds_test.cache()\n",
        "ds_test = ds_test.prefetch(tf.data.AUTOTUNE)\n",
        "\n",
        "# mnist dataset"
      ],
      "execution_count": null,
      "outputs": [
        {
          "output_type": "stream",
          "name": "stdout",
          "text": [
            "\u001b[1mDownloading and preparing dataset mnist/3.0.1 (download: 11.06 MiB, generated: 21.00 MiB, total: 32.06 MiB) to /root/tensorflow_datasets/mnist/3.0.1...\u001b[0m\n"
          ]
        },
        {
          "output_type": "stream",
          "name": "stderr",
          "text": [
            "WARNING:absl:Dataset mnist is hosted on GCS. It will automatically be downloaded to your\n",
            "local data directory. If you'd instead prefer to read directly from our public\n",
            "GCS bucket (recommended if you're running on GCP), you can instead pass\n",
            "`try_gcs=True` to `tfds.load` or set `data_dir=gs://tfds-data/datasets`.\n",
            "\n"
          ]
        },
        {
          "output_type": "display_data",
          "data": {
            "application/vnd.jupyter.widget-view+json": {
              "model_id": "92fbce63761442dd84fce719831ac094",
              "version_minor": 0,
              "version_major": 2
            },
            "text/plain": [
              "Dl Completed...:   0%|          | 0/4 [00:00<?, ? file/s]"
            ]
          },
          "metadata": {}
        },
        {
          "output_type": "stream",
          "name": "stdout",
          "text": [
            "\n",
            "\u001b[1mDataset mnist downloaded and prepared to /root/tensorflow_datasets/mnist/3.0.1. Subsequent calls will reuse this data.\u001b[0m\n"
          ]
        }
      ]
    },
    {
      "cell_type": "code",
      "metadata": {
        "colab": {
          "base_uri": "https://localhost:8080/"
        },
        "id": "GjVqHKM-omij",
        "outputId": "446508da-fcae-454e-cb55-dfe2355dc60c"
      },
      "source": [
        "ds_train.element_spec"
      ],
      "execution_count": null,
      "outputs": [
        {
          "output_type": "execute_result",
          "data": {
            "text/plain": [
              "(TensorSpec(shape=(None, 28, 28, 1), dtype=tf.float32, name=None),\n",
              " TensorSpec(shape=(None,), dtype=tf.int64, name=None))"
            ]
          },
          "metadata": {},
          "execution_count": 4
        }
      ]
    },
    {
      "cell_type": "code",
      "metadata": {
        "colab": {
          "base_uri": "https://localhost:8080/"
        },
        "id": "ttK9m3HYoMcB",
        "outputId": "ada9a863-0523-4d5b-f046-76815182ac72"
      },
      "source": [
        "inp = Input((28,28,1))\n",
        "x = Conv2D(8,(3,3), activation = 'relu', kernel_constraint=Binarize(), bias_constraint=Binarize())(inp)\n",
        "x = MaxPool2D(2)(x)\n",
        "x = Conv2D(16,(3,3), activation = 'relu', kernel_constraint=Binarize(), bias_constraint=Binarize())(x)\n",
        "x = MaxPool2D(2)(x)\n",
        "x = Flatten()(x)\n",
        "out = Dense(10, activation='softmax', kernel_constraint=Binarize(), bias_constraint=Binarize())(x)\n",
        "\n",
        "model = Model(inputs = inp, outputs = out)\n",
        "print(model.summary())\n",
        "model.compile(\n",
        "    optimizer=tf.keras.optimizers.Adam(0.1),\n",
        "    loss=tf.keras.losses.SparseCategoricalCrossentropy(from_logits=True),\n",
        "    metrics=[tf.keras.metrics.SparseCategoricalAccuracy()],\n",
        ")\n",
        "\n",
        "model.fit(ds_train,epochs=3,validation_data=ds_test)"
      ],
      "execution_count": null,
      "outputs": [
        {
          "output_type": "stream",
          "name": "stdout",
          "text": [
            "Model: \"model_3\"\n",
            "_________________________________________________________________\n",
            "Layer (type)                 Output Shape              Param #   \n",
            "=================================================================\n",
            "input_4 (InputLayer)         [(None, 28, 28, 1)]       0         \n",
            "_________________________________________________________________\n",
            "conv2d_6 (Conv2D)            (None, 26, 26, 8)         80        \n",
            "_________________________________________________________________\n",
            "max_pooling2d_6 (MaxPooling2 (None, 13, 13, 8)         0         \n",
            "_________________________________________________________________\n",
            "conv2d_7 (Conv2D)            (None, 11, 11, 16)        1168      \n",
            "_________________________________________________________________\n",
            "max_pooling2d_7 (MaxPooling2 (None, 5, 5, 16)          0         \n",
            "_________________________________________________________________\n",
            "flatten_3 (Flatten)          (None, 400)               0         \n",
            "_________________________________________________________________\n",
            "dense_3 (Dense)              (None, 10)                4010      \n",
            "=================================================================\n",
            "Total params: 5,258\n",
            "Trainable params: 5,258\n",
            "Non-trainable params: 0\n",
            "_________________________________________________________________\n",
            "None\n",
            "Epoch 1/3\n",
            "469/469 [==============================] - 19s 40ms/step - loss: 1524.9366 - sparse_categorical_accuracy: 0.1074 - val_loss: 1539.7784 - val_sparse_categorical_accuracy: 0.1079\n",
            "Epoch 2/3\n",
            "469/469 [==============================] - 19s 40ms/step - loss: 1527.5416 - sparse_categorical_accuracy: 0.1075 - val_loss: 1539.7784 - val_sparse_categorical_accuracy: 0.1079\n",
            "Epoch 3/3\n",
            "469/469 [==============================] - 19s 40ms/step - loss: 1527.5414 - sparse_categorical_accuracy: 0.1075 - val_loss: 1539.7784 - val_sparse_categorical_accuracy: 0.1079\n"
          ]
        },
        {
          "output_type": "execute_result",
          "data": {
            "text/plain": [
              "<keras.callbacks.History at 0x7fb2d01dee10>"
            ]
          },
          "metadata": {},
          "execution_count": 11
        }
      ]
    },
    {
      "cell_type": "code",
      "metadata": {
        "colab": {
          "base_uri": "https://localhost:8080/"
        },
        "id": "Wewoe2kJoMeq",
        "outputId": "665ee649-05f1-426c-d2c8-b4a3b0510b1c"
      },
      "source": [
        "model.weights"
      ],
      "execution_count": null,
      "outputs": [
        {
          "output_type": "execute_result",
          "data": {
            "text/plain": [
              "[<tf.Variable 'conv2d_6/kernel:0' shape=(3, 3, 1, 8) dtype=float32, numpy=\n",
              " array([[[[ 1.,  1.,  1., -1., -1., -1., -1.,  1.]],\n",
              " \n",
              "         [[-1., -1.,  1., -1., -1.,  1.,  1., -1.]],\n",
              " \n",
              "         [[ 1., -1.,  1., -1., -1., -1.,  1., -1.]]],\n",
              " \n",
              " \n",
              "        [[[-1.,  1., -1., -1., -1.,  1.,  1.,  1.]],\n",
              " \n",
              "         [[ 1., -1., -1., -1., -1.,  1., -1., -1.]],\n",
              " \n",
              "         [[-1.,  1.,  1., -1.,  1.,  1.,  1., -1.]]],\n",
              " \n",
              " \n",
              "        [[[-1.,  1., -1.,  1.,  1., -1., -1., -1.]],\n",
              " \n",
              "         [[ 1.,  1.,  1.,  1.,  1., -1., -1., -1.]],\n",
              " \n",
              "         [[ 1., -1.,  1., -1., -1.,  1.,  1.,  1.]]]], dtype=float32)>,\n",
              " <tf.Variable 'conv2d_6/bias:0' shape=(8,) dtype=float32, numpy=array([-1.,  1.,  1.,  1., -1., -1.,  1., -1.], dtype=float32)>,\n",
              " <tf.Variable 'conv2d_7/kernel:0' shape=(3, 3, 8, 16) dtype=float32, numpy=\n",
              " array([[[[ 1., -1.,  1., ..., -1., -1., -1.],\n",
              "          [ 1., -1.,  1., ..., -1.,  1., -1.],\n",
              "          [ 1.,  1., -1., ..., -1.,  1., -1.],\n",
              "          ...,\n",
              "          [-1., -1.,  1., ..., -1.,  1., -1.],\n",
              "          [ 1., -1., -1., ..., -1.,  1., -1.],\n",
              "          [ 1.,  1.,  1., ..., -1., -1.,  1.]],\n",
              " \n",
              "         [[ 1.,  1., -1., ..., -1., -1.,  1.],\n",
              "          [-1., -1., -1., ..., -1.,  1., -1.],\n",
              "          [-1., -1.,  1., ..., -1.,  1., -1.],\n",
              "          ...,\n",
              "          [ 1., -1.,  1., ...,  1.,  1.,  1.],\n",
              "          [ 1.,  1., -1., ..., -1.,  1.,  1.],\n",
              "          [ 1., -1.,  1., ..., -1., -1.,  1.]],\n",
              " \n",
              "         [[ 1., -1.,  1., ...,  1., -1., -1.],\n",
              "          [ 1., -1.,  1., ...,  1.,  1.,  1.],\n",
              "          [-1., -1., -1., ..., -1., -1.,  1.],\n",
              "          ...,\n",
              "          [-1., -1.,  1., ...,  1.,  1., -1.],\n",
              "          [-1., -1.,  1., ...,  1.,  1.,  1.],\n",
              "          [ 1., -1., -1., ...,  1.,  1., -1.]]],\n",
              " \n",
              " \n",
              "        [[[ 1., -1., -1., ...,  1., -1.,  1.],\n",
              "          [-1., -1.,  1., ...,  1., -1.,  1.],\n",
              "          [ 1., -1., -1., ..., -1.,  1.,  1.],\n",
              "          ...,\n",
              "          [ 1., -1.,  1., ...,  1.,  1.,  1.],\n",
              "          [-1.,  1.,  1., ..., -1., -1.,  1.],\n",
              "          [ 1., -1.,  1., ..., -1., -1., -1.]],\n",
              " \n",
              "         [[ 1., -1.,  1., ...,  1., -1., -1.],\n",
              "          [ 1., -1.,  1., ...,  1.,  1., -1.],\n",
              "          [ 1., -1., -1., ..., -1., -1., -1.],\n",
              "          ...,\n",
              "          [-1., -1., -1., ...,  1., -1.,  1.],\n",
              "          [ 1., -1., -1., ..., -1.,  1.,  1.],\n",
              "          [ 1., -1.,  1., ...,  1.,  1., -1.]],\n",
              " \n",
              "         [[ 1., -1.,  1., ..., -1.,  1., -1.],\n",
              "          [ 1., -1.,  1., ..., -1., -1., -1.],\n",
              "          [ 1., -1., -1., ...,  1.,  1., -1.],\n",
              "          ...,\n",
              "          [ 1., -1., -1., ..., -1.,  1., -1.],\n",
              "          [ 1., -1.,  1., ...,  1.,  1.,  1.],\n",
              "          [ 1., -1., -1., ...,  1.,  1., -1.]]],\n",
              " \n",
              " \n",
              "        [[[-1.,  1.,  1., ..., -1., -1.,  1.],\n",
              "          [-1., -1.,  1., ...,  1., -1.,  1.],\n",
              "          [ 1., -1.,  1., ...,  1.,  1., -1.],\n",
              "          ...,\n",
              "          [-1., -1.,  1., ..., -1.,  1., -1.],\n",
              "          [ 1., -1.,  1., ...,  1.,  1., -1.],\n",
              "          [ 1., -1.,  1., ...,  1.,  1., -1.]],\n",
              " \n",
              "         [[ 1.,  1.,  1., ...,  1., -1., -1.],\n",
              "          [ 1.,  1., -1., ...,  1.,  1., -1.],\n",
              "          [ 1., -1.,  1., ...,  1.,  1.,  1.],\n",
              "          ...,\n",
              "          [ 1., -1.,  1., ...,  1., -1., -1.],\n",
              "          [ 1.,  1., -1., ...,  1., -1., -1.],\n",
              "          [ 1., -1.,  1., ...,  1.,  1., -1.]],\n",
              " \n",
              "         [[ 1.,  1., -1., ...,  1.,  1., -1.],\n",
              "          [ 1.,  1., -1., ..., -1., -1., -1.],\n",
              "          [-1., -1., -1., ...,  1.,  1., -1.],\n",
              "          ...,\n",
              "          [ 1.,  1.,  1., ..., -1.,  1., -1.],\n",
              "          [ 1.,  1., -1., ...,  1., -1.,  1.],\n",
              "          [-1., -1.,  1., ...,  1.,  1.,  1.]]]], dtype=float32)>,\n",
              " <tf.Variable 'conv2d_7/bias:0' shape=(16,) dtype=float32, numpy=\n",
              " array([ 1., -1., -1., -1., -1., -1.,  1.,  1., -1., -1.,  1., -1., -1.,\n",
              "         1.,  1., -1.], dtype=float32)>,\n",
              " <tf.Variable 'dense_3/kernel:0' shape=(400, 10) dtype=float32, numpy=\n",
              " array([[-1., -1., -1., ...,  1., -1., -1.],\n",
              "        [-1., -1., -1., ...,  1.,  1., -1.],\n",
              "        [ 1., -1.,  1., ...,  1., -1., -1.],\n",
              "        ...,\n",
              "        [-1.,  1., -1., ..., -1., -1., -1.],\n",
              "        [ 1., -1.,  1., ..., -1., -1., -1.],\n",
              "        [-1., -1.,  1., ..., -1., -1.,  1.]], dtype=float32)>,\n",
              " <tf.Variable 'dense_3/bias:0' shape=(10,) dtype=float32, numpy=array([ 1.,  1., -1., -1., -1.,  1.,  1.,  1., -1.,  1.], dtype=float32)>]"
            ]
          },
          "metadata": {},
          "execution_count": 12
        }
      ]
    },
    {
      "cell_type": "code",
      "metadata": {
        "id": "u8ixlHLwnvuW",
        "colab": {
          "base_uri": "https://localhost:8080/"
        },
        "outputId": "fea68426-c214-45ae-e19a-7d5ad6106a1f"
      },
      "source": [
        "inp = Input((28,28,1))\n",
        "x = Conv2D(8,(3,3), activation = 'relu', kernel_constraint=Binarize(), bias_constraint=Binarize())(inp)\n",
        "x = MaxPool2D(2)(x)\n",
        "x = Conv2D(16,(3,3), activation = 'relu', kernel_constraint=Binarize(), bias_constraint=Binarize())(x)\n",
        "x = MaxPool2D(2)(x)\n",
        "x = Flatten()(x)\n",
        "out = Dense(10, activation='softmax')(x)\n",
        "\n",
        "model = Model(inputs = inp, outputs = out)\n",
        "print(model.summary())\n",
        "model.compile(\n",
        "    optimizer=tf.keras.optimizers.Adam(0.001),\n",
        "    loss=tf.keras.losses.SparseCategoricalCrossentropy(from_logits=True),\n",
        "    metrics=[tf.keras.metrics.SparseCategoricalAccuracy()],\n",
        ")\n",
        "\n",
        "model.fit(ds_train,epochs=3,validation_data=ds_test)"
      ],
      "execution_count": null,
      "outputs": [
        {
          "output_type": "stream",
          "name": "stdout",
          "text": [
            "Model: \"model_2\"\n",
            "_________________________________________________________________\n",
            "Layer (type)                 Output Shape              Param #   \n",
            "=================================================================\n",
            "input_3 (InputLayer)         [(None, 28, 28, 1)]       0         \n",
            "_________________________________________________________________\n",
            "conv2d_4 (Conv2D)            (None, 26, 26, 8)         80        \n",
            "_________________________________________________________________\n",
            "max_pooling2d_4 (MaxPooling2 (None, 13, 13, 8)         0         \n",
            "_________________________________________________________________\n",
            "conv2d_5 (Conv2D)            (None, 11, 11, 16)        1168      \n",
            "_________________________________________________________________\n",
            "max_pooling2d_5 (MaxPooling2 (None, 5, 5, 16)          0         \n",
            "_________________________________________________________________\n",
            "flatten_2 (Flatten)          (None, 400)               0         \n",
            "_________________________________________________________________\n",
            "dense_2 (Dense)              (None, 10)                4010      \n",
            "=================================================================\n",
            "Total params: 5,258\n",
            "Trainable params: 5,258\n",
            "Non-trainable params: 0\n",
            "_________________________________________________________________\n",
            "None\n",
            "Epoch 1/3\n",
            "469/469 [==============================] - 19s 39ms/step - loss: 1.4095 - sparse_categorical_accuracy: 0.7681 - val_loss: 0.3954 - val_sparse_categorical_accuracy: 0.8980\n",
            "Epoch 2/3\n",
            "469/469 [==============================] - 18s 39ms/step - loss: 0.3502 - sparse_categorical_accuracy: 0.9103 - val_loss: 0.2824 - val_sparse_categorical_accuracy: 0.9258\n",
            "Epoch 3/3\n",
            "469/469 [==============================] - 19s 39ms/step - loss: 0.2541 - sparse_categorical_accuracy: 0.9327 - val_loss: 0.2044 - val_sparse_categorical_accuracy: 0.9456\n"
          ]
        },
        {
          "output_type": "execute_result",
          "data": {
            "text/plain": [
              "<keras.callbacks.History at 0x7fb2d036d750>"
            ]
          },
          "metadata": {},
          "execution_count": 9
        }
      ]
    },
    {
      "cell_type": "code",
      "metadata": {
        "colab": {
          "base_uri": "https://localhost:8080/"
        },
        "id": "SHBR37Xsw1Vp",
        "outputId": "8fc01a25-9a05-457f-bbf9-fb3043372f3c"
      },
      "source": [
        "from tensorflow.keras.layers import Dense, Conv2D,  MaxPool2D, Flatten, GlobalAveragePooling2D,  BatchNormalization, Layer, Add\n",
        "from tensorflow.keras.models import Sequential\n",
        "from tensorflow.keras.models import Model\n",
        "\n",
        "class ResnetBlock(Model):\n",
        "    \"\"\"\n",
        "    A standard resnet block.\n",
        "    \"\"\"\n",
        "\n",
        "    def __init__(self, channels: int, down_sample=False):\n",
        "        \"\"\"\n",
        "        channels: same as number of convolution kernels\n",
        "        \"\"\"\n",
        "        super().__init__()\n",
        "\n",
        "        self.__channels = channels\n",
        "        self.__down_sample = down_sample\n",
        "        self.__strides = [2, 1] if down_sample else [1, 1]\n",
        "\n",
        "        KERNEL_SIZE = (3, 3)\n",
        "        # use He initialization, instead of Xavier (a.k.a 'glorot_uniform' in Keras), as suggested in [2]\n",
        "        INIT_SCHEME = \"he_normal\"\n",
        "\n",
        "        self.conv_1 = Conv2D(self.__channels, strides=self.__strides[0],\n",
        "                             kernel_size=KERNEL_SIZE, padding=\"same\", kernel_initializer=INIT_SCHEME, kernel_constraint=Binarize(), bias_constraint=Binarize())\n",
        "        self.bn_1 = BatchNormalization(beta_constraint=Binarize(), gamma_constraint=Binarize())\n",
        "        self.conv_2 = Conv2D(self.__channels, strides=self.__strides[1],\n",
        "                             kernel_size=KERNEL_SIZE, padding=\"same\", kernel_initializer=INIT_SCHEME, kernel_constraint=Binarize(), bias_constraint=Binarize())\n",
        "        self.bn_2 = BatchNormalization(beta_constraint=Binarize(), gamma_constraint=Binarize())\n",
        "        self.merge = Add()\n",
        "\n",
        "        if self.__down_sample:\n",
        "            # perform down sampling using stride of 2, according to [1].\n",
        "            self.res_conv = Conv2D(\n",
        "                self.__channels, strides=2, kernel_size=(1, 1), kernel_initializer=INIT_SCHEME, padding=\"same\", kernel_constraint=Binarize(), bias_constraint=Binarize())\n",
        "            self.res_bn = BatchNormalization(beta_constraint=Binarize(), gamma_constraint=Binarize())\n",
        "\n",
        "    def call(self, inputs):\n",
        "        res = inputs\n",
        "\n",
        "        x = self.conv_1(inputs)\n",
        "        x = self.bn_1(x)\n",
        "        x = tf.nn.relu(x)\n",
        "        x = self.conv_2(x)\n",
        "        x = self.bn_2(x)\n",
        "\n",
        "        if self.__down_sample:\n",
        "            res = self.res_conv(res)\n",
        "            res = self.res_bn(res)\n",
        "\n",
        "        # if not perform down sample, then add a shortcut directly\n",
        "        x = self.merge([x, res])\n",
        "        out = tf.nn.relu(x)\n",
        "        return out\n",
        "\n",
        "class ResNet18(Model):\n",
        "\n",
        "    def __init__(self, num_classes, **kwargs):\n",
        "        \"\"\"\n",
        "            num_classes: number of classes in specific classification task.\n",
        "        \"\"\"\n",
        "        super().__init__(**kwargs)\n",
        "        self.conv_1 = Conv2D(64, (7, 7), strides=2,\n",
        "                             padding=\"same\", kernel_initializer=\"he_normal\", kernel_constraint=Binarize(), bias_constraint=Binarize())\n",
        "        self.init_bn = BatchNormalization(beta_constraint=Binarize(), gamma_constraint=Binarize())\n",
        "        self.pool_2 = MaxPool2D(pool_size=(2, 2), strides=2, padding=\"same\")\n",
        "        self.res_1_1 = ResnetBlock(64)\n",
        "        self.res_1_2 = ResnetBlock(64)\n",
        "        self.res_2_1 = ResnetBlock(128, down_sample=True)\n",
        "        self.res_2_2 = ResnetBlock(128)\n",
        "        self.res_3_1 = ResnetBlock(256, down_sample=True)\n",
        "        self.res_3_2 = ResnetBlock(256)\n",
        "        self.res_4_1 = ResnetBlock(512, down_sample=True)\n",
        "        self.res_4_2 = ResnetBlock(512)\n",
        "        self.avg_pool = GlobalAveragePooling2D()\n",
        "        self.flat = Flatten()\n",
        "        self.fc = Dense(num_classes, activation=\"softmax\")\n",
        "\n",
        "    def call(self, inputs):\n",
        "        out = self.conv_1(inputs)\n",
        "        out = self.init_bn(out)\n",
        "        out = tf.nn.relu(out)\n",
        "        out = self.pool_2(out)\n",
        "        for res_block in [self.res_1_1, self.res_1_2, self.res_2_1, self.res_2_2, self.res_3_1, self.res_3_2, self.res_4_1, self.res_4_2]:\n",
        "            out = res_block(out)\n",
        "        out = self.avg_pool(out)\n",
        "        out = self.flat(out)\n",
        "        out = self.fc(out)\n",
        "        return out\n",
        "\n",
        "model = ResNet18(10)\n",
        "model.build(input_shape = (None,28,28,1))\n",
        "model.compile(\n",
        "    optimizer=tf.keras.optimizers.Adam(0.01),\n",
        "    loss=tf.keras.losses.SparseCategoricalCrossentropy(from_logits=True),\n",
        "    metrics=[tf.keras.metrics.SparseCategoricalAccuracy()],\n",
        ")\n",
        "model.summary()"
      ],
      "execution_count": null,
      "outputs": [
        {
          "output_type": "stream",
          "name": "stdout",
          "text": [
            "WARNING:tensorflow:AutoGraph could not transform <bound method ResnetBlock.call of <__main__.ResnetBlock object at 0x7fb2cfdf7b50>> and will run it as-is.\n",
            "Cause: mangled names are not yet supported\n",
            "To silence this warning, decorate the function with @tf.autograph.experimental.do_not_convert\n"
          ]
        },
        {
          "output_type": "stream",
          "name": "stderr",
          "text": [
            "WARNING:tensorflow:AutoGraph could not transform <bound method ResnetBlock.call of <__main__.ResnetBlock object at 0x7fb2cfdf7b50>> and will run it as-is.\n",
            "Cause: mangled names are not yet supported\n",
            "To silence this warning, decorate the function with @tf.autograph.experimental.do_not_convert\n"
          ]
        },
        {
          "output_type": "stream",
          "name": "stdout",
          "text": [
            "WARNING: AutoGraph could not transform <bound method ResnetBlock.call of <__main__.ResnetBlock object at 0x7fb2cfdf7b50>> and will run it as-is.\n",
            "Cause: mangled names are not yet supported\n",
            "To silence this warning, decorate the function with @tf.autograph.experimental.do_not_convert\n",
            "Model: \"res_net18_5\"\n",
            "_________________________________________________________________\n",
            "Layer (type)                 Output Shape              Param #   \n",
            "=================================================================\n",
            "conv2d_108 (Conv2D)          multiple                  3200      \n",
            "_________________________________________________________________\n",
            "batch_normalization_100 (Bat multiple                  256       \n",
            "_________________________________________________________________\n",
            "max_pooling2d_13 (MaxPooling multiple                  0         \n",
            "_________________________________________________________________\n",
            "resnet_block_40 (ResnetBlock multiple                  74368     \n",
            "_________________________________________________________________\n",
            "resnet_block_41 (ResnetBlock multiple                  74368     \n",
            "_________________________________________________________________\n",
            "resnet_block_42 (ResnetBlock multiple                  231296    \n",
            "_________________________________________________________________\n",
            "resnet_block_43 (ResnetBlock multiple                  296192    \n",
            "_________________________________________________________________\n",
            "resnet_block_44 (ResnetBlock multiple                  921344    \n",
            "_________________________________________________________________\n",
            "resnet_block_45 (ResnetBlock multiple                  1182208   \n",
            "_________________________________________________________________\n",
            "resnet_block_46 (ResnetBlock multiple                  3677696   \n",
            "_________________________________________________________________\n",
            "resnet_block_47 (ResnetBlock multiple                  4723712   \n",
            "_________________________________________________________________\n",
            "global_average_pooling2d_5 ( multiple                  0         \n",
            "_________________________________________________________________\n",
            "flatten_9 (Flatten)          multiple                  0         \n",
            "_________________________________________________________________\n",
            "dense_9 (Dense)              multiple                  5130      \n",
            "=================================================================\n",
            "Total params: 11,189,770\n",
            "Trainable params: 11,180,170\n",
            "Non-trainable params: 9,600\n",
            "_________________________________________________________________\n"
          ]
        }
      ]
    },
    {
      "cell_type": "code",
      "metadata": {
        "id": "c9OkEeQrw1Za"
      },
      "source": [
        ""
      ],
      "execution_count": null,
      "outputs": []
    }
  ]
}